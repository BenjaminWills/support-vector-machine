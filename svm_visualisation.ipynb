{
 "cells": [
  {
   "cell_type": "code",
   "execution_count": 2,
   "metadata": {},
   "outputs": [],
   "source": [
    "import numpy as np\n",
    "import ipywidgets.widgets as widgets\n",
    "import matplotlib.pyplot as plt"
   ]
  },
  {
   "cell_type": "code",
   "execution_count": 3,
   "metadata": {},
   "outputs": [],
   "source": [
    "def hyperplane(features:np.array,normal_vector:np.array,offset:float) -> float:\n",
    "    \"\"\"Generates a hyperplane with the dimension of the normal vector, note that the features\n",
    "    must always be an array of one dimension less than the normal vector.\n",
    "\n",
    "    Parameters\n",
    "    ----------\n",
    "    features : np.array\n",
    "        co-ordinates\n",
    "    normal_vector : np.array\n",
    "        normal vector to the hyperplane\n",
    "    offset : float\n",
    "        vertical scaling factor\n",
    "\n",
    "    Returns\n",
    "    -------\n",
    "    float\n",
    "        output in the n'th dimension.\n",
    "    \"\"\"\n",
    "    last_coefficient = normal_vector[-1]\n",
    "    shifted_normal = normal_vector[:-1]\n",
    "    shifted_features = features\n",
    "    \n",
    "    return -np.dot(shifted_features,shifted_normal)/last_coefficient - offset/last_coefficient"
   ]
  },
  {
   "cell_type": "markdown",
   "metadata": {},
   "source": [
    "consider the plane given by $2x+3 = y$ (straight line) so $\\bold{n}= (2,-1)$ and $b = 3$"
   ]
  },
  {
   "cell_type": "code",
   "execution_count": 4,
   "metadata": {},
   "outputs": [],
   "source": [
    "def get_func_values(func,feature_space):\n",
    "    return [func(np.array([k])) for k in feature_space]"
   ]
  },
  {
   "cell_type": "code",
   "execution_count": 5,
   "metadata": {},
   "outputs": [],
   "source": [
    "def plot_hyperplane_margin(offset_change:float) -> None:\n",
    "    \"\"\"Will plot a hyperplane with a given margin, meaning that its more of a hyper volume defined\n",
    "    by three hyperplanes.\n",
    "\n",
    "    Parameters\n",
    "    ----------\n",
    "    offset_change : float\n",
    "        Width of the margin\n",
    "    \"\"\"\n",
    "    normal_array = np.array([2,-1])\n",
    "    offset= 3\n",
    "    func1 = lambda x:hyperplane(x,normal_array,offset)\n",
    "    func2 = lambda x:hyperplane(x,normal_array,offset + offset_change)\n",
    "    func3 = lambda x:hyperplane(x,normal_array,offset - offset_change)\n",
    "\n",
    "    feature_space = np.linspace(-10,10,1000)\n",
    "    func1_values = get_func_values(func1,feature_space)\n",
    "    func2_values = get_func_values(func2,feature_space)\n",
    "    func3_values = get_func_values(func3,feature_space)\n",
    "\n",
    "    fig = plt.figure()\n",
    "    ax = fig.add_subplot(111)\n",
    "    ax.plot(feature_space,func1_values)\n",
    "    ax.plot(feature_space,func2_values)\n",
    "    ax.plot(feature_space,func3_values)\n",
    "    ax.set_xlim(-10,10)\n",
    "    ax.set_ylim(-5,25)\n",
    "    fig.set_figheight(10)\n",
    "    fig.set_figwidth(30)\n",
    "    ax.grid(True, which='both')\n",
    "    ax.axhline(y=0, color='k')\n",
    "    ax.axvline(x=0, color='k')"
   ]
  },
  {
   "cell_type": "code",
   "execution_count": 6,
   "metadata": {},
   "outputs": [
    {
     "data": {
      "application/vnd.jupyter.widget-view+json": {
       "model_id": "9518665dc7fd4ef392415b2685490d15",
       "version_major": 2,
       "version_minor": 0
      },
      "text/plain": [
       "interactive(children=(FloatSlider(value=5.0, description='offset_change', max=10.0, step=0.5), Output()), _dom…"
      ]
     },
     "metadata": {},
     "output_type": "display_data"
    },
    {
     "data": {
      "text/plain": [
       "<function __main__.<lambda>(offset_change)>"
      ]
     },
     "execution_count": 6,
     "metadata": {},
     "output_type": "execute_result"
    }
   ],
   "source": [
    "widgets.interact(lambda offset_change:plot_hyperplane_margin(offset_change),offset_change = (0,10,0.5))"
   ]
  },
  {
   "cell_type": "code",
   "execution_count": null,
   "metadata": {},
   "outputs": [],
   "source": []
  }
 ],
 "metadata": {
  "kernelspec": {
   "display_name": "Python 3.9.15 64-bit",
   "language": "python",
   "name": "python3"
  },
  "language_info": {
   "codemirror_mode": {
    "name": "ipython",
    "version": 3
   },
   "file_extension": ".py",
   "mimetype": "text/x-python",
   "name": "python",
   "nbconvert_exporter": "python",
   "pygments_lexer": "ipython3",
   "version": "3.9.15"
  },
  "orig_nbformat": 4,
  "vscode": {
   "interpreter": {
    "hash": "a665b5d41d17b532ea9890333293a1b812fa0b73c9c25c950b3cedf1bebd0438"
   }
  }
 },
 "nbformat": 4,
 "nbformat_minor": 2
}
